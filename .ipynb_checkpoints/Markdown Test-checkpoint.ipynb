{
 "cells": [
  {
   "cell_type": "markdown",
   "id": "9fb05911",
   "metadata": {},
   "source": [
    "\n",
    "<div style=' text-align:center'>\n",
    "    <h3>1조 프로젝트</h3>\n",
    "    <h1>인천시 공공자전거 대여소 위치 선정</h1>\n",
    "    <h4>20011132 안수민</h4>\n",
    "    <h4>20011142 권혜민</h4>\n",
    "    <h4>20011146 박세현</h4>\n",
    "    <h4>20011156 소효진 </h4>\n",
    "</div>\n",
    "\n",
    "    "
   ]
  },
  {
   "cell_type": "markdown",
   "id": "dd3ad5a3",
   "metadata": {},
   "source": [
    "import warnings\\\n",
    "warnings.filterwarnings(action='ignore') \n"
   ]
  },
  {
   "cell_type": "code",
   "execution_count": null,
   "id": "1ea7601c",
   "metadata": {},
   "outputs": [],
   "source": []
  }
 ],
 "metadata": {
  "kernelspec": {
   "display_name": "Python 3 (ipykernel)",
   "language": "python",
   "name": "python3"
  },
  "language_info": {
   "codemirror_mode": {
    "name": "ipython",
    "version": 3
   },
   "file_extension": ".py",
   "mimetype": "text/x-python",
   "name": "python",
   "nbconvert_exporter": "python",
   "pygments_lexer": "ipython3",
   "version": "3.8.13"
  }
 },
 "nbformat": 4,
 "nbformat_minor": 5
}
